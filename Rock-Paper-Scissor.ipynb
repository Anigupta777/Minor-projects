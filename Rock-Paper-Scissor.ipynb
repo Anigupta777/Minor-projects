{
 "cells": [
  {
   "cell_type": "markdown",
   "id": "790cad98",
   "metadata": {},
   "source": [
    "# ROCK-PAPER-SCISSOR"
   ]
  },
  {
   "cell_type": "code",
   "execution_count": 15,
   "id": "3a89d168",
   "metadata": {},
   "outputs": [
    {
     "name": "stdout",
     "output_type": "stream",
     "text": [
      "Enter your choice-\"Rock\" or \"Paper\" or \"Scissor\":Rock\n",
      "\n",
      "User choice =Rock\n",
      "Computer choice =Paper\n",
      "Computer won the Match\n"
     ]
    }
   ],
   "source": [
    "import numpy as np\n",
    "user_choice=input('Enter your choice-\"Rock\" or \"Paper\" or \"Scissor\":')\n",
    "computer_choice=np.random.randint(3)\n",
    "if(computer_choice == 0):\n",
    "    computer_choice = 'Rock'\n",
    "elif(computer_choice == 1):\n",
    "    computer_choice = 'Paper'\n",
    "else:\n",
    "    computer_choice = 'Scissor'\n",
    "print()\n",
    "print(f'User choice ={user_choice}')\n",
    "print(f'Computer choice ={computer_choice}')\n",
    "if (user_choice == 'Rock' and computer_choice == 'Rock'):\n",
    "    print('Oops! There is a tie')\n",
    "elif (user_choice == 'Rock' and computer_choice == 'Paper'):\n",
    "    print('Computer won the Match')\n",
    "elif (user_choice == 'Rock' and computer_choice == 'Scissor'):\n",
    "    print('User won the Match')\n",
    "elif (user_choice == 'Paper' and computer_choice == 'Rock'):\n",
    "    print('User won the Match')\n",
    "elif (user_choice == 'Paper' and computer_choice == 'Paper'):\n",
    "    print('Oops! There is a Tie')\n",
    "elif (user_choice == 'Paper' and computer_choice == 'Scissor'):\n",
    "    print('Computer won the Match')\n",
    "elif (user_choice == 'Scissor' and computer_choice == 'Rock'):\n",
    "    print('Computer won the Match')\n",
    "elif (user_choice == 'Scissor' and computer_choice == 'Paper'):\n",
    "    print('User won the Match')\n",
    "else:\n",
    "    print('Oops! There is a Tie')"
   ]
  },
  {
   "cell_type": "code",
   "execution_count": 16,
   "id": "df7ec406",
   "metadata": {},
   "outputs": [
    {
     "name": "stdout",
     "output_type": "stream",
     "text": [
      "Enter your choice-\"Rock\" or \"Paper\" or \"Scissor\":Paper\n",
      "\n",
      "User choice =Paper\n",
      "Computer choice =Rock\n",
      "User won the Match\n"
     ]
    }
   ],
   "source": [
    "import numpy as np\n",
    "user_choice=input('Enter your choice-\"Rock\" or \"Paper\" or \"Scissor\":')\n",
    "computer_choice=np.random.randint(3)\n",
    "if(computer_choice == 0):\n",
    "    computer_choice = 'Rock'\n",
    "elif(computer_choice == 1):\n",
    "    computer_choice = 'Paper'\n",
    "else:\n",
    "    computer_choice = 'Scissor'\n",
    "print()\n",
    "print(f'User choice ={user_choice}')\n",
    "print(f'Computer choice ={computer_choice}')\n",
    "if (user_choice == computer_choice):\n",
    "    print('Oops! There is a tie')\n",
    "elif (user_choice == 'Rock' and computer_choice == 'Paper'):\n",
    "    print('Computer won the Match')\n",
    "elif (user_choice == 'Rock' and computer_choice == 'Scissor'):\n",
    "    print('User won the Match')\n",
    "elif (user_choice == 'Paper' and computer_choice == 'Rock'):\n",
    "    print('User won the Match')\n",
    "elif (user_choice == 'Paper' and computer_choice == 'Scissor'):\n",
    "    print('Computer won the Match')\n",
    "elif (user_choice == 'Scissor' and computer_choice == 'Rock'):\n",
    "    print('Computer won the Match')\n",
    "else:\n",
    "    print('User won the Match')\n"
   ]
  },
  {
   "cell_type": "code",
   "execution_count": null,
   "id": "4d324a56",
   "metadata": {},
   "outputs": [
    {
     "name": "stdout",
     "output_type": "stream",
     "text": [
      "Enter your choice-\"Rock\" or \"Paper\" or \"Scissor\":Paper\n",
      "\n",
      "User choice =Paper\n",
      "Computer choice =Rock\n",
      "User won the Match\n",
      "Enter your choice-\"Rock\" or \"Paper\" or \"Scissor\":Rock\n",
      "\n",
      "User choice =Rock\n",
      "Computer choice =Rock\n",
      "Oops! There is a tie\n",
      "Enter your choice-\"Rock\" or \"Paper\" or \"Scissor\":Scissor\n",
      "\n",
      "User choice =Scissor\n",
      "Computer choice =Paper\n",
      "User won the Match\n",
      "Enter your choice-\"Rock\" or \"Paper\" or \"Scissor\":Scissors\\\n",
      "\n",
      "User choice =Scissors\\\n",
      "Computer choice =Scissor\n",
      "User won the Match\n",
      "Enter your choice-\"Rock\" or \"Paper\" or \"Scissor\":scissor\n",
      "\n",
      "User choice =scissor\n",
      "Computer choice =Rock\n",
      "User won the Match\n"
     ]
    }
   ],
   "source": [
    "playmore = 1\n",
    "while(playmore):\n",
    "    import numpy as np\n",
    "    user_choice=input('Enter your choice-\"Rock\" or \"Paper\" or \"Scissor\":')\n",
    "    computer_choice=np.random.randint(3)\n",
    "    if(computer_choice == 0):\n",
    "        computer_choice = 'Rock'\n",
    "    elif(computer_choice == 1):\n",
    "        computer_choice = 'Paper'\n",
    "    else:\n",
    "        computer_choice = 'Scissor'\n",
    "    print()\n",
    "    print(f'User choice ={user_choice}')\n",
    "    print(f'Computer choice ={computer_choice}')\n",
    "    if (user_choice == computer_choice):\n",
    "        print('Oops! There is a tie')\n",
    "    elif (user_choice == 'Rock' and computer_choice == 'Paper'):\n",
    "        print('Computer won the Match')\n",
    "    elif (user_choice == 'Rock' and computer_choice == 'Scissor'):\n",
    "        print('User won the Match')\n",
    "    elif (user_choice == 'Paper' and computer_choice == 'Rock'):\n",
    "        print('User won the Match')\n",
    "    elif (user_choice == 'Paper' and computer_choice == 'Scissor'):\n",
    "        print('Computer won the Match')\n",
    "    elif (user_choice == 'Scissor' and computer_choice == 'Rock'):\n",
    "        print('Computer won the Match')\n",
    "    else:\n",
    "        print('User won the Match')\n"
   ]
  },
  {
   "cell_type": "code",
   "execution_count": 20,
   "id": "b0de7c03",
   "metadata": {},
   "outputs": [
    {
     "name": "stdout",
     "output_type": "stream",
     "text": [
      "Enter your choice-\"Rock\" or \"Paper\" or \"Scissor\":rock\n",
      "\n",
      "User choice =rock\n",
      "Computer choice =Rock\n",
      "User won the Match\n",
      "Do you want to play again? -Enter \"Yes\" or \"No\":No\n"
     ]
    }
   ],
   "source": [
    "import numpy as np\n",
    "playmore = 1\n",
    "while(playmore):\n",
    "    user_choice=input('Enter your choice-\"Rock\" or \"Paper\" or \"Scissor\":')\n",
    "    computer_choice=np.random.randint(3)\n",
    "    if(computer_choice == 0):\n",
    "        computer_choice = 'Rock'\n",
    "    elif(computer_choice == 1):\n",
    "        computer_choice = 'Paper'\n",
    "    else:\n",
    "        computer_choice = 'Scissor'\n",
    "    print()\n",
    "    print(f'User choice ={user_choice}')\n",
    "    print(f'Computer choice ={computer_choice}')\n",
    "    if (user_choice == computer_choice):\n",
    "        print('Oops! There is a tie')\n",
    "    elif (user_choice == 'Rock' and computer_choice == 'Paper'):\n",
    "        print('Computer won the Match')\n",
    "    elif (user_choice == 'Rock' and computer_choice == 'Scissor'):\n",
    "        print('User won the Match')\n",
    "    elif (user_choice == 'Paper' and computer_choice == 'Rock'):\n",
    "        print('User won the Match')\n",
    "    elif (user_choice == 'Paper' and computer_choice == 'Scissor'):\n",
    "        print('Computer won the Match')\n",
    "    elif (user_choice == 'Scissor' and computer_choice == 'Rock'):\n",
    "        print('Computer won the Match')\n",
    "    else:\n",
    "        print('User won the Match')\n",
    "    replay_status=input('Do you want to play again? -Enter \"Yes\" or \"No\":')\n",
    "    if(replay_status == 'No'):\n",
    "        playmore = 0"
   ]
  },
  {
   "cell_type": "code",
   "execution_count": 21,
   "id": "ddde8515",
   "metadata": {},
   "outputs": [
    {
     "name": "stdout",
     "output_type": "stream",
     "text": [
      "Enter your choice-\"Rock\" or \"Paper\" or \"Scissor\":Rock\n",
      "\n",
      "User choice =Rock\n",
      "Computer choice =Paper\n",
      "Computer won the Match\n",
      "Do you want to play again? -Enter \"Yes\" or \"No\":No\n",
      "Number of matches played = 1\n",
      "Number of matches won by user = 0\n",
      "Number of matches won by computer = 1\n",
      "Number of matches tie = 0\n"
     ]
    }
   ],
   "source": [
    "import numpy as np\n",
    "playmore = 1\n",
    "match_count = 0\n",
    "user_win_count = 0\n",
    "computer_win_count =0\n",
    "tie_count = 0\n",
    "while(playmore):\n",
    "    user_choice=input('Enter your choice-\"Rock\" or \"Paper\" or \"Scissor\":')\n",
    "    computer_choice=np.random.randint(3)\n",
    "    if(computer_choice == 0):\n",
    "        computer_choice = 'Rock'\n",
    "    elif(computer_choice == 1):\n",
    "        computer_choice = 'Paper'\n",
    "    else:\n",
    "        computer_choice = 'Scissor'\n",
    "    print()\n",
    "    print(f'User choice ={user_choice}')\n",
    "    print(f'Computer choice ={computer_choice}')\n",
    "    if (user_choice == computer_choice):\n",
    "        print('Oops! There is a tie')\n",
    "        tie_count += 1\n",
    "    elif (user_choice == 'Rock' and computer_choice == 'Paper'):\n",
    "        print('Computer won the Match')\n",
    "        computer_win_count += 1\n",
    "    elif (user_choice == 'Rock' and computer_choice == 'Scissor'):\n",
    "        print('User won the Match')\n",
    "        user_win_count +=1\n",
    "    elif (user_choice == 'Paper' and computer_choice == 'Rock'):\n",
    "        print('User won the Match')\n",
    "        user_win_count +=1\n",
    "    elif (user_choice == 'Paper' and computer_choice == 'Scissor'):\n",
    "        print('Computer won the Match')\n",
    "        computer_win_count += 1\n",
    "    elif (user_choice == 'Scissor' and computer_choice == 'Rock'):\n",
    "        print('Computer won the Match')\n",
    "        computer_win_count += 1\n",
    "    else:\n",
    "        print('User won the Match')\n",
    "        user_win_count += 1\n",
    "    match_count += 1\n",
    "    replay_status=input('Do you want to play again? -Enter \"Yes\" or \"No\":')\n",
    "    if(replay_status == 'No'):\n",
    "        playmore = 0\n",
    "print(f'Number of matches played = {match_count}')\n",
    "print(f'Number of matches won by user = {user_win_count}')\n",
    "print(f'Number of matches won by computer = {computer_win_count}')\n",
    "print(f'Number of matches tie = {tie_count}')"
   ]
  }
 ],
 "metadata": {
  "kernelspec": {
   "display_name": "Python 3 (ipykernel)",
   "language": "python",
   "name": "python3"
  },
  "language_info": {
   "codemirror_mode": {
    "name": "ipython",
    "version": 3
   },
   "file_extension": ".py",
   "mimetype": "text/x-python",
   "name": "python",
   "nbconvert_exporter": "python",
   "pygments_lexer": "ipython3",
   "version": "3.9.12"
  }
 },
 "nbformat": 4,
 "nbformat_minor": 5
}
