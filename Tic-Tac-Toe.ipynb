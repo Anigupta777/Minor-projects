{
 "cells": [
  {
   "cell_type": "markdown",
   "id": "f3d85e36",
   "metadata": {},
   "source": [
    "# TIC-TAC-TOE (USing User-Staticstics)"
   ]
  },
  {
   "cell_type": "code",
   "execution_count": 1,
   "id": "de421cc4",
   "metadata": {},
   "outputs": [],
   "source": [
    "from IPython.display import clear_output\n",
    "#Display Board\n",
    "def display(n_Ist):\n",
    "    clear_output()\n",
    "    print('✪ Tic-Tac-Toe ✪')\n",
    "    print('| ',n_Ist[7], '| ',n_Ist[8], '| ',n_Ist[9], '|')\n",
    "    print('| ',n_Ist[4], '| ',n_Ist[5], '| ',n_Ist[6], '|')\n",
    "    print('| ',n_Ist[1], '| ',n_Ist[2], '| ',n_Ist[3], '|')\n",
    "    print(' ❊Anigupta777❊')"
   ]
  },
  {
   "cell_type": "code",
   "execution_count": 3,
   "id": "bf335e28",
   "metadata": {},
   "outputs": [
    {
     "name": "stdout",
     "output_type": "stream",
     "text": [
      "✪ Tic-Tac-Toe ✪\n",
      "|  7 |  8 |  9 |\n",
      "|  4 |  5 |  6 |\n",
      "|  1 |  2 |  3 |\n",
      " ❊Anigupta777❊\n"
     ]
    }
   ],
   "source": [
    "#Check board for Dummy Input\n",
    "n_Ist =['Dummy', 1,2,3,4,5,6,7,8,9]\n",
    "display(n_Ist)"
   ]
  },
  {
   "cell_type": "code",
   "execution_count": 4,
   "id": "bb50e188",
   "metadata": {},
   "outputs": [
    {
     "name": "stdout",
     "output_type": "stream",
     "text": [
      "✪ Tic-Tac-Toe ✪\n",
      "|    |    |    |\n",
      "|    |    |    |\n",
      "|    |    |    |\n",
      " ❊Anigupta777❊\n",
      "[' ', ' ', ' ', ' ', ' ', ' ', ' ', ' ', ' ', ' ']\n"
     ]
    }
   ],
   "source": [
    "#Check for Dummy Input\n",
    "n_Ist=[' ']*10\n",
    "display(n_Ist)\n",
    "print(n_Ist)"
   ]
  },
  {
   "cell_type": "code",
   "execution_count": 6,
   "id": "d8cdd9dc",
   "metadata": {},
   "outputs": [
    {
     "name": "stdout",
     "output_type": "stream",
     "text": [
      "✪ Tic-Tac-Toe ✪\n",
      "|  X |  X |  X |\n",
      "|  X |  X |  X |\n",
      "|  X |  X |  X |\n",
      " ❊Anigupta777❊\n"
     ]
    }
   ],
   "source": [
    "#Check for 'X' Input\n",
    "n_Ist=[' ']*10\n",
    "for i in range(9):\n",
    "    temp=int(input('Enter the input:'))\n",
    "    n_Ist[temp]='X'\n",
    "    display(n_Ist)"
   ]
  },
  {
   "cell_type": "code",
   "execution_count": 10,
   "id": "56794b23",
   "metadata": {},
   "outputs": [
    {
     "name": "stdout",
     "output_type": "stream",
     "text": [
      "✪ Tic-Tac-Toe ✪\n",
      "|  O |    |  O |\n",
      "|    |  O |    |\n",
      "|  O |    |  O |\n",
      " ❊Anigupta777❊\n"
     ]
    }
   ],
   "source": [
    "#Check board for alternate 'X' and '0' inputs\n",
    "n_Ist=[' ']*10\n",
    "for i in range(9):\n",
    "    temp=int(input('Enter the input:'))\n",
    "    if(i%2==0):\n",
    "        n_Ist[temp]='X'\n",
    "#     else:\n",
    "        n_Ist[temp]='O'\n",
    "    display(n_Ist)"
   ]
  },
  {
   "cell_type": "code",
   "execution_count": 11,
   "id": "817803cc",
   "metadata": {},
   "outputs": [],
   "source": [
    "#Check winning condition\n",
    "#Winning cases-1,2,3,-4,5,6-7,8,9-1,4,7-2,5,8-3,6,9-1,5,9-3,5,7\n",
    "#Check all th eight cases\n",
    "def check_winning_condition(mark, n_Ist):\n",
    "    if(((n_Ist[1] == mark) and (n_Ist[2] ==mark) and (n_Ist[3] ==mark))or\n",
    "       ((n_Ist[4] == mark) and (n_Ist[5] ==mark) and (n_Ist[6] ==mark))or\n",
    "       ((n_Ist[7] == mark) and (n_Ist[8] ==mark) and (n_Ist[9] ==mark))or\n",
    "       ((n_Ist[1] == mark) and (n_Ist[4] ==mark) and (n_Ist[7] ==mark))or\n",
    "       ((n_Ist[2] == mark) and (n_Ist[5] ==mark) and (n_Ist[8] ==mark))or\n",
    "       ((n_Ist[3] == mark) and (n_Ist[6] ==mark) and (n_Ist[9] ==mark))or\n",
    "       ((n_Ist[1] == mark) and (n_Ist[5] ==mark) and (n_Ist[9] ==mark))or\n",
    "       ((n_Ist[3] == mark) and (n_Ist[5] ==mark) and (n_Ist[7] ==mark))):\n",
    "        return 1\n",
    "    else:\n",
    "        return 0"
   ]
  },
  {
   "cell_type": "code",
   "execution_count": 12,
   "id": "6e09e714",
   "metadata": {},
   "outputs": [
    {
     "name": "stdout",
     "output_type": "stream",
     "text": [
      "✪ Tic-Tac-Toe ✪\n",
      "|  X |    |    |\n",
      "|  O |  X |  O |\n",
      "|  X |  O |  X |\n",
      " ❊Anigupta777❊\n",
      "Hurrey! Player1 Won!\n"
     ]
    }
   ],
   "source": [
    "#Play and check for Player 1 and Player 2\n",
    "#Winning and Match Tie Status is displayed at the end\n",
    "n_Ist=[' ']*10\n",
    "for i in range(9):\n",
    "    temp=int(input('Enter the input:'))\n",
    "    if(i%2==0):\n",
    "        n_Ist[temp]='X'\n",
    "        mark='X'\n",
    "        temp1=check_winning_condition(mark,n_Ist)\n",
    "    else:\n",
    "        n_Ist[temp]='O'\n",
    "        mark='O'\n",
    "        temp1=check_winning_condition(mark, n_Ist)\n",
    "    display(n_Ist)\n",
    "    if(temp1 == 1):\n",
    "        break\n",
    "if(temp1 == 1):\n",
    "    if(i%2 == 0):\n",
    "        print('Hurrey! Player1 Won!')\n",
    "    else:\n",
    "        print('Hurrey! Player2 Won!')\n",
    "else:\n",
    "    print('There is a tie')"
   ]
  },
  {
   "cell_type": "code",
   "execution_count": 14,
   "id": "0b69912a",
   "metadata": {},
   "outputs": [
    {
     "name": "stdout",
     "output_type": "stream",
     "text": [
      "✪ Tic-Tac-Toe ✪\n",
      "|  X |    |    |\n",
      "|  0 |  X |  0 |\n",
      "|  X |  0 |  X |\n",
      " ❊Anigupta777❊\n",
      "Hurrey! Player1 Won!\n",
      "Do you want to play again? - Enter Yes or No: Yes\n"
     ]
    }
   ],
   "source": [
    "while(True):\n",
    "    n_Ist=[' ']*10\n",
    "    for i in range(9):\n",
    "        temp=int(input('Enter the input:'))\n",
    "        if(i%2==0):\n",
    "            n_Ist[temp]='X'\n",
    "            mark='X'\n",
    "            temp1=check_winning_condition(mark,n_Ist)\n",
    "        else:\n",
    "            n_Ist[temp]='0'\n",
    "            mark='0'\n",
    "            temp1=check_winning_condition(mark, n_Ist)\n",
    "        display(n_Ist)\n",
    "        if(temp1 == 1):\n",
    "            break\n",
    "    if(temp1 == 1):\n",
    "        if(i%2 == 0):\n",
    "            print('Hurrey! Player1 Won!')\n",
    "        else:\n",
    "            print('Hurrey! Player2 Won!')\n",
    "    else:\n",
    "        print('There is a tie')\n",
    "    replay_status = input('Do you want to play again? - Enter Yes or No: ')\n",
    "    if(replay_status == 'Yes'):\n",
    "        break"
   ]
  },
  {
   "cell_type": "code",
   "execution_count": 15,
   "id": "4cf916cb",
   "metadata": {},
   "outputs": [
    {
     "name": "stdout",
     "output_type": "stream",
     "text": [
      "✪ Tic-Tac-Toe ✪\n",
      "|  O |    |    |\n",
      "|  X |  O |  X |\n",
      "|  O |  X |  O |\n",
      " ❊Anigupta777❊\n",
      "Hurrey! Player1 Won!\n",
      "Do you want to play again? - Enter Yes or No: Yes\n"
     ]
    }
   ],
   "source": [
    "#Player1 has the right to choose a specific mark -X or 0\n",
    "while(True):\n",
    "    n_Ist=[' ']*10\n",
    "    display(n_Ist)\n",
    "    #player1_mark=' '\n",
    "    #player2_mark=' '\n",
    "    player1_mark=input(\"Player1, please enter your choice! -'X'or 'O': \")\n",
    "    if(player1_mark.upper() == 'X'):\n",
    "        player1_mark = 'X'\n",
    "        player2_mark = 'O'\n",
    "    else:\n",
    "        player1_mark = 'O'\n",
    "        player2_mark = 'X'\n",
    "    for i in range(9):\n",
    "        temp=int(input('Enter the input:'))\n",
    "        if(i%2==0):\n",
    "            n_Ist[temp]=player1_mark\n",
    "            mark=player1_mark\n",
    "            temp1=check_winning_condition(mark,n_Ist)\n",
    "        else:\n",
    "            n_Ist[temp]=player2_mark\n",
    "            mark=player2_mark\n",
    "            temp1=check_winning_condition(mark, n_Ist)\n",
    "        display(n_Ist)\n",
    "        if(temp1 == 1):\n",
    "            break\n",
    "    if(temp1 == 1):\n",
    "        if(i%2 == 0):\n",
    "            print('Hurrey! Player1 Won!')\n",
    "        else:\n",
    "            print('Hurrey! Player2 Won!')\n",
    "    else:\n",
    "        print('There is a tie')\n",
    "    replay_status = input('Do you want to play again? - Enter Yes or No: ')\n",
    "    if(replay_status == 'Yes'):\n",
    "        break"
   ]
  }
 ],
 "metadata": {
  "kernelspec": {
   "display_name": "Python 3 (ipykernel)",
   "language": "python",
   "name": "python3"
  },
  "language_info": {
   "codemirror_mode": {
    "name": "ipython",
    "version": 3
   },
   "file_extension": ".py",
   "mimetype": "text/x-python",
   "name": "python",
   "nbconvert_exporter": "python",
   "pygments_lexer": "ipython3",
   "version": "3.9.12"
  }
 },
 "nbformat": 4,
 "nbformat_minor": 5
}
